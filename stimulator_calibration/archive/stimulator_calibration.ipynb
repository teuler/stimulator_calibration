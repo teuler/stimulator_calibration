{
 "cells": [
  {
   "cell_type": "markdown",
   "metadata": {},
   "source": [
    "# Initialization"
   ]
  },
  {
   "cell_type": "code",
   "execution_count": 10,
   "metadata": {
    "collapsed": false
   },
   "outputs": [
    {
     "name": "stderr",
     "output_type": "stream",
     "text": [
      ":0: FutureWarning: IPython widgets are experimental and may change in the future.\n"
     ]
    }
   ],
   "source": [
    "import stimulator_calibration_lib as csl\n",
    "import numpy as np\n",
    "import matplotlib\n",
    "import matplotlib.pyplot as plt\n",
    "import seaborn as sns\n",
    "%matplotlib inline  "
   ]
  },
  {
   "cell_type": "code",
   "execution_count": 11,
   "metadata": {
    "collapsed": true
   },
   "outputs": [],
   "source": [
    "h        = 4.135667E-15 # Planck's constant [eV*s]\n",
    "c        = 299792458    # speed of light [m/s]\n",
    "eV_per_J = 6.242E+18    # [eV] per [J]"
   ]
  },
  {
   "cell_type": "markdown",
   "metadata": {},
   "source": [
    "# Definitions\n",
    "### Load opsin spectra from file:\n",
    "\n",
    "*TODO: Add some information about how the file(s) are organized*"
   ]
  },
  {
   "cell_type": "code",
   "execution_count": 12,
   "metadata": {
    "collapsed": false
   },
   "outputs": [],
   "source": [
    "x_wavelen_nm = np.loadtxt(\"mouse_cone_opsins.txt\", usecols=(2,))\n",
    "mouseMOpsin  = np.loadtxt(\"mouse_cone_opsins.txt\", usecols=(1,))\n",
    "mouseSOpsin  = np.loadtxt(\"mouse_cone_opsins.txt\", usecols=(0,))"
   ]
  },
  {
   "cell_type": "markdown",
   "metadata": {},
   "source": [
    "*TODO: Load dicroic spectrum*"
   ]
  },
  {
   "cell_type": "markdown",
   "metadata": {},
   "source": [
    "### Define photoreceptor- and species specific constants:\n",
    "\n",
    "*   `ac_um2`<br />\n",
    "    Cone OS light collection area in [µm^2], see [Nikonov et al., 2006](http://www.ncbi.nlm.nih.gov/pubmed/16567464) for details. This is an experimentally determined value, e.g. for wt mouse cones that is fully dark-adapted, a value of 0.2 can be assumed.\n",
    "*   `ar_um2`<br />\n",
    "    Rod OS light collection area, see above. A value of 0.5 is realistic.   \n"
   ]
  },
  {
   "cell_type": "code",
   "execution_count": 13,
   "metadata": {
    "collapsed": true
   },
   "outputs": [],
   "source": [
    "ac_um2 = 0.2     \n",
    "ar_um2 = 0.5"
   ]
  },
  {
   "cell_type": "markdown",
   "metadata": {},
   "source": [
    "### Define photoreceptors:"
   ]
  },
  {
   "cell_type": "code",
   "execution_count": 14,
   "metadata": {
    "collapsed": false
   },
   "outputs": [],
   "source": [
    "MCone = {\"name\"           : \"mouse M cone\",\n",
    "         \"peak_nm\"        : 511,\n",
    "         \"collecArea_um2\" : ac_um2, \n",
    "         \"spect\"          : mouseMOpsin}\n",
    "SCone = {\"name\"           : \"mouse S cone\",\n",
    "         \"peak_nm\"        : 360,         \n",
    "         \"collecArea_um2\" : ac_um2, \n",
    "         \"spect\"          : mouseSOpsin}\n",
    "Rod   = {\"name\"           : \"mouse rod\",\n",
    "         \"peak_nm\"        : 510,         \n",
    "         \"collecArea_um2\" : ar_um2, \n",
    "         \"spect\"          : []}\n",
    "\n",
    "PRs   = [MCone, SCone, Rod]"
   ]
  },
  {
   "cell_type": "markdown",
   "metadata": {},
   "source": [
    "### Define Stimulus LEDs:\n",
    "\n",
    "*   `peak_nm`, peak wavelengths of stimulus LED(s) in [nm]          \n",
    "*   `bandwidth_nm`, LED band width(s) in [nm]. If 0 then the LED's spectrum is expected to be contained in `spect` (same x range as the opsin spectra, see above, and with 1-nm resolution). Otherwise, the spectrum `spect` will be calculated.\n",
    "*   `pow_meas_nW[]`, series of power measurements for this LED, in [nW], at the LED levels given in `levels` (0..255).\n",
    "\n",
    "*TODO: Details about how to measure and that this is an approximation ...*"
   ]
  },
  {
   "cell_type": "code",
   "execution_count": 15,
   "metadata": {
    "collapsed": false
   },
   "outputs": [],
   "source": [
    "GrLED_pow = np.array([0.0,42.0])\n",
    "GrLED_lev = np.array([0,255])\n",
    "BlLED_pow = np.array([0.0,42.0])\n",
    "BlLED_lev = np.array([0,255])\n",
    "\n",
    "GrLED = {\"name\"         : \"green\",\n",
    "         \"peak_nm\"      : 578,\n",
    "         \"bandwidth_nm\" : 10,\n",
    "         \"spect\"        : [],\n",
    "         \"pow_meas_nW\"  : GrLED_pow,\n",
    "         \"levels\"       : GrLED_lev}\n",
    "BlLED = {\"name\"         : \"blue\",\n",
    "         \"peak_nm\"      : 405,\n",
    "         \"bandwidth_nm\" : 10,\n",
    "         \"spect\"        : [],\n",
    "         \"pow_meas_nW\"  : BlLED_pow,\n",
    "         \"levels\"       : BlLED_lev}\n",
    "\n",
    "LEDs  = [GrLED, BlLED]"
   ]
  },
  {
   "cell_type": "markdown",
   "metadata": {},
   "source": [
    "### Define diameter of stimulus spot on detector:"
   ]
  },
  {
   "cell_type": "code",
   "execution_count": 16,
   "metadata": {
    "collapsed": false
   },
   "outputs": [
    {
     "name": "stdout",
     "output_type": "stream",
     "text": [
      "Illuminated area is 1.963e+05 µm2\n"
     ]
    }
   ],
   "source": [
    "r_spot_mm    = 0.250\n",
    "\n",
    "# Calculate area of spot on the detector\n",
    "#\n",
    "A_detect_um2 = np.pi *(r_spot_mm *1E3)**2\n",
    "print(\"Illuminated area is {0:.3e} µm2\".format(A_detect_um2))"
   ]
  },
  {
   "cell_type": "markdown",
   "metadata": {
    "collapsed": false
   },
   "source": [
    "# Calculation:\n"
   ]
  },
  {
   "cell_type": "code",
   "execution_count": 17,
   "metadata": {
    "collapsed": false
   },
   "outputs": [],
   "source": [
    "# Handle photoreceptor and LED spectra ...\n",
    "#\n",
    "# Determin minimum and maximum wavelength of the given opsin spectra for\n",
    "# the generation of the respective LED/filter spectra, assuming a spectral\n",
    "# resolution of 1 nm\n",
    "#\n",
    "spectWidth  = len(x_wavelen_nm)\n",
    "spectMin_nm = x_wavelen_nm[0]\n",
    "spectMax_nm = x_wavelen_nm[spectWidth -1]\n",
    "\n",
    "# If LED/filter spectra are not define, generate those from center \n",
    "# wavelength and band-pass width\n",
    "#\n",
    "for LED in LEDs:\n",
    "    # Generate spectrum for bandpass filter\n",
    "    #\n",
    "    if len(LED[\"spect\"]) == 0:\n",
    "        temp = []\n",
    "        x1   = LED[\"peak_nm\"] -LED[\"bandwidth_nm\"]/2.0\n",
    "        x2   = LED[\"peak_nm\"] +LED[\"bandwidth_nm\"]/2.0\n",
    "        for i in range(spectWidth):\n",
    "            temp.append(int(((i +spectMin_nm) > x1) and ((i +spectMin_nm) < x2)))\n",
    "        LED[\"spect\"] = np.array(temp)\n",
    "    \n",
    "    # Calculate overlap between each LED/filter and photoreceptor type\n",
    "    #\n",
    "    LED[\"effect_on_PR\"] = []\n",
    "    for PR in PRs:\n",
    "        if len(PR[\"spect\"]) > 0:\n",
    "            temp = {}\n",
    "            temp[\"PR_name\"] = PR[\"name\"]\n",
    "            temp[\"spect\"]   = PR[\"spect\"] *LED[\"spect\"]\n",
    "            A_PR            = np.trapz(PR[\"spect\"])\n",
    "            A_overlap       = np.trapz(temp[\"spect\"])\n",
    "            temp[\"rel_exc\"] = A_overlap/A_PR\n",
    "            LED[\"effect_on_PR\"].append(temp)\n"
   ]
  },
  {
   "cell_type": "code",
   "execution_count": 18,
   "metadata": {
    "collapsed": false
   },
   "outputs": [
    {
     "name": "stdout",
     "output_type": "stream",
     "text": [
      "Relative co-excitation:\n",
      "   1.4% of mouse M cone by green\n",
      "   0.0% of mouse S cone by green\n",
      "   1.0% of mouse M cone by blue\n",
      "   2.7% of mouse S cone by blue\n"
     ]
    },
    {
     "data": {
      "image/png": "[encoded data removed]",
      "text/plain": [
       "<matplotlib.figure.Figure at 0x95aaac8>"
      ]
     },
     "metadata": {},
     "output_type": "display_data"
    }
   ],
   "source": [
    "# Plot spectra of photoreceptors and LED/filter combinations\n",
    "#\n",
    "for PR in PRs:\n",
    "    if len(PR[\"spect\"]) > 0:\n",
    "        plt.plot(x_wavelen_nm, PR[\"spect\"], \n",
    "                 color=csl.wavelength_to_rgb(PR[\"peak_nm\"]), label=PR[\"name\"])\n",
    "        \n",
    "for LED in LEDs:        \n",
    "    if len(LED[\"spect\"]) > 0:    \n",
    "        colLED = csl.wavelength_to_rgb(LED[\"peak_nm\"])\n",
    "        plt.plot(x_wavelen_nm, LED[\"spect\"], color=colLED, label=\"LED_\" +LED[\"name\"])\n",
    "        for effect in LED[\"effect_on_PR\"]:\n",
    "            for PR in PRs:\n",
    "                if PR[\"name\"] == effect[\"PR_name\"]:\n",
    "                    colPR = csl.wavelength_to_rgb(PR[\"peak_nm\"])\n",
    "            plt.fill(x_wavelen_nm, effect[\"spect\"], facecolor=colPR, alpha=0.25)    \n",
    "\n",
    "sns.axlabel(\"wavelength [nm]\", \"relative sensitivity\")     \n",
    "plt.legend(bbox_to_anchor=(1.01, 1), loc=\"upper left\")\n",
    "\n",
    "\"\"\"\n",
    "# ***********************\n",
    "# ***********************\n",
    "LEDs[0][\"effect_on_PR\"][0][\"rel_exc\"] = 0.166864675438927\n",
    "LEDs[0][\"effect_on_PR\"][1][\"rel_exc\"] = 1.08647022352287E-08\n",
    "LEDs[1][\"effect_on_PR\"][0][\"rel_exc\"] = 0.109573046335205\n",
    "LEDs[1][\"effect_on_PR\"][1][\"rel_exc\"] = 0.273304491525736\n",
    "# ***********************\n",
    "# ***********************\n",
    "\"\"\"\n",
    "\n",
    "# Print co-excitation values for all LED/filter and photoreceptor combinations\n",
    "#\n",
    "print(\"Relative co-excitation:\")\n",
    "for LED in LEDs:        \n",
    "    if len(LED[\"spect\"]) > 0:    \n",
    "        for effect in LED[\"effect_on_PR\"]:\n",
    "            print(\"{0:6.1f}% of {1} by {2}\"\n",
    "                  .format(effect[\"rel_exc\"]*100, effect[\"PR_name\"], LED[\"name\"]))    "
   ]
  },
  {
   "cell_type": "code",
   "execution_count": 19,
   "metadata": {
    "collapsed": false
   },
   "outputs": [
    {
     "name": "stdout",
     "output_type": "stream",
     "text": [
      "Photoisomerization rates:\n",
      "  0.0 ..   1.8 10^3 photons/s in mouse M cone for green\n",
      "  0.0 ..   0.0 10^3 photons/s in mouse S cone for green\n",
      "  0.0 ..   0.9 10^3 photons/s in mouse M cone for blue\n",
      "  0.0 ..   2.3 10^3 photons/s in mouse S cone for blue\n"
     ]
    }
   ],
   "source": [
    "# Calculate photo-isomerization rates for all LED/filter and photoreceptor combinations\n",
    "#\n",
    "print(\"Photoisomerization rates:\")\n",
    "\n",
    "for LED in LEDs:\n",
    "    # Convert energy flux from [nW] (=readout of photometer, in [nW]) into [eV/s]\n",
    "    #\n",
    "    LED[\"pow_eflux\"] = LED[\"pow_meas_nW\"] *1E-9 *eV_per_J\n",
    "\n",
    "    # Calculate the wavelength-dependent photon energy `Q` in [eV]\n",
    "    #\n",
    "    LED[\"pow_Q\"]     = c *h /(LED[\"peak_nm\"] *1E-9)\n",
    "\n",
    "    # Divide energy flux by the photon energy to get the photon flux `phi`[photons/s] \n",
    "    # and then photon flux density `E` [photons/s /µm^2]\n",
    "    #\n",
    "    LED[\"pow_phi\"]   = LED[\"pow_eflux\"] /LED[\"pow_Q\"]\n",
    "    LED[\"pow_E\"]     = LED[\"pow_phi\"] /A_detect_um2\n",
    "    \n",
    "    # Calculate per photoreceptor ...\n",
    "    #\n",
    "    for effect in LED[\"effect_on_PR\"]:\n",
    "        for PR in PRs:\n",
    "            if PR[\"name\"] == effect[\"PR_name\"]:\n",
    "                # ... photon flux per photoreceptor `photon_rate` in [photons/s]\n",
    "                #\n",
    "                A_collect = PR[\"collecArea_um2\"]\n",
    "                effect[\"photon_rate\"]   = LED[\"pow_E\"] *A_collect\n",
    "                \n",
    "                # ... photoisomerizations [P*/photoreceptor /s]\n",
    "                #\n",
    "                effect[\"photoiso_rate\"] = effect[\"photon_rate\"] *effect[\"rel_exc\"]\n",
    "                print(\"{0:5.1f} .. {1:5.1f} 10^3 photons/s in {2} for {3}\"\n",
    "                      .format(effect[\"photoiso_rate\"][0]/1000.0, \n",
    "                              effect[\"photoiso_rate\"][-1]/1000.0, PR[\"name\"], LED[\"name\"]))"
   ]
  },
  {
   "cell_type": "code",
   "execution_count": 20,
   "metadata": {
    "collapsed": false
   },
   "outputs": [
    {
     "data": {
      "text/plain": [
       "'\\nfor standard values of excel sheet ...\\n20.8 10^3 photons/s in mouse M cone for green\\n 0.0 10^3 photons/s in mouse S cone for green\\n 9.6 10^3 photons/s in mouse M cone for blue\\n23.8 10^3 photons/s in mouse S cone for blue\\n'"
      ]
     },
     "execution_count": 20,
     "metadata": {},
     "output_type": "execute_result"
    }
   ],
   "source": [
    "\"\"\"\n",
    "for standard values of excel sheet ...\n",
    "20.8 10^3 photons/s in mouse M cone for green\n",
    " 0.0 10^3 photons/s in mouse S cone for green\n",
    " 9.6 10^3 photons/s in mouse M cone for blue\n",
    "23.8 10^3 photons/s in mouse S cone for blue\n",
    "\"\"\""
   ]
  },
  {
   "cell_type": "code",
   "execution_count": 21,
   "metadata": {
    "collapsed": false
   },
   "outputs": [
    {
     "data": {
      "image/png": "[encoded data removed]",
      "text/plain": [
       "<matplotlib.figure.Figure at 0x95a4da0>"
      ]
     },
     "metadata": {},
     "output_type": "display_data"
    }
   ],
   "source": [
    "markers = [\"o\", \">\", \"<\", \"#\"]\n",
    "\n",
    "for iLED, LED in enumerate(LEDs):\n",
    "    colLED = csl.wavelength_to_rgb(LED[\"peak_nm\"])\n",
    "    plt.subplot(2, 1, 1)\n",
    "    sns.axlabel(\"pixel value 0..255]\", \"power [nW]\")         \n",
    "    plt.scatter(LED[\"levels\"], LED[\"pow_meas_nW\"], color=colLED, label=\"measured power, LED_\" +LED[\"name\"],\n",
    "                marker=\"o\", s=50)\n",
    "    plt.legend(bbox_to_anchor=(1.01, 1), loc=\"upper left\")\n",
    "\n",
    "    plt.subplot(2, 1, 2)\n",
    "    sns.axlabel(\"pixel value 0..255]\", \"photoisomerisation rate\")         \n",
    "    for iEffect, effect in enumerate(LED[\"effect_on_PR\"]):\n",
    "        for PR in PRs:\n",
    "            if PR[\"name\"] == effect[\"PR_name\"]:\n",
    "                if len(PR[\"spect\"]) > 0:\n",
    "                    colPR = csl.wavelength_to_rgb(PR[\"peak_nm\"])\n",
    "                    plt.scatter(LED[\"levels\"], effect[\"photoiso_rate\"], color=colPR, \n",
    "                                label=\"in \" +PR[\"name\"] +\" by \" +LED[\"name\"] +\"-LED\",\n",
    "                                marker=markers[iLED], s=50)\n",
    "    plt.legend(bbox_to_anchor=(1.01, 1), loc=\"upper left\")"
   ]
  },
  {
   "cell_type": "code",
   "execution_count": null,
   "metadata": {
    "collapsed": true
   },
   "outputs": [],
   "source": []
  },
  {
   "cell_type": "code",
   "execution_count": null,
   "metadata": {
    "collapsed": true
   },
   "outputs": [],
   "source": []
  }
 ],
 "metadata": {
  "kernelspec": {
   "display_name": "Python 3",
   "language": "python",
   "name": "python3"
  },
  "language_info": {
   "codemirror_mode": {
    "name": "ipython",
    "version": 3
   },
   "file_extension": ".py",
   "mimetype": "text/x-python",
   "name": "python",
   "nbconvert_exporter": "python",
   "pygments_lexer": "ipython3",
   "version": "3.4.3"
  }
 },
 "nbformat": 4,
 "nbformat_minor": 0
}
